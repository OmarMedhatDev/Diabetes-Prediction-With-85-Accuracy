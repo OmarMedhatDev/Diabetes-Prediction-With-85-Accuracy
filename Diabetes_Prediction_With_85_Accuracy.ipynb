{
  "metadata": {
    "kernelspec": {
      "language": "python",
      "display_name": "Python 3",
      "name": "python3"
    },
    "language_info": {
      "name": "python",
      "version": "3.10.13",
      "mimetype": "text/x-python",
      "codemirror_mode": {
        "name": "ipython",
        "version": 3
      },
      "pygments_lexer": "ipython3",
      "nbconvert_exporter": "python",
      "file_extension": ".py"
    },
    "kaggle": {
      "accelerator": "none",
      "dataSources": [
        {
          "sourceId": 3226898,
          "sourceType": "datasetVersion",
          "datasetId": 1956887
        }
      ],
      "dockerImageVersionId": 30746,
      "isInternetEnabled": true,
      "language": "python",
      "sourceType": "notebook",
      "isGpuEnabled": false
    },
    "colab": {
      "name": "Diabetes Prediction: With 85% Accuracy",
      "provenance": []
    }
  },
  "nbformat_minor": 0,
  "nbformat": 4,
  "cells": [
    {
      "source": [
        "\n",
        "# IMPORTANT: RUN THIS CELL IN ORDER TO IMPORT YOUR KAGGLE DATA SOURCES\n",
        "# TO THE CORRECT LOCATION (/kaggle/input) IN YOUR NOTEBOOK,\n",
        "# THEN FEEL FREE TO DELETE THIS CELL.\n",
        "# NOTE: THIS NOTEBOOK ENVIRONMENT DIFFERS FROM KAGGLE'S PYTHON\n",
        "# ENVIRONMENT SO THERE MAY BE MISSING LIBRARIES USED BY YOUR\n",
        "# NOTEBOOK.\n",
        "\n",
        "import os\n",
        "import sys\n",
        "from tempfile import NamedTemporaryFile\n",
        "from urllib.request import urlopen\n",
        "from urllib.parse import unquote, urlparse\n",
        "from urllib.error import HTTPError\n",
        "from zipfile import ZipFile\n",
        "import tarfile\n",
        "import shutil\n",
        "\n",
        "CHUNK_SIZE = 40960\n",
        "DATA_SOURCE_MAPPING = 'diabetes-dataset-for-beginners:https%3A%2F%2Fstorage.googleapis.com%2Fkaggle-data-sets%2F1956887%2F3226898%2Fbundle%2Farchive.zip%3FX-Goog-Algorithm%3DGOOG4-RSA-SHA256%26X-Goog-Credential%3Dgcp-kaggle-com%2540kaggle-161607.iam.gserviceaccount.com%252F20240724%252Fauto%252Fstorage%252Fgoog4_request%26X-Goog-Date%3D20240724T232335Z%26X-Goog-Expires%3D259200%26X-Goog-SignedHeaders%3Dhost%26X-Goog-Signature%3D817aeb3bce1756667892ee74d1122f89985ffa73b07a4c45b7ba42e69b175d2a91470dba940a4b79b9b38411b2a96fe206a73d3f31c6e9fdf636aaee3a97cc1594b1a4e6f3e867ac31d7b953cca94f8374db0547bf4053e6740bfbb2dff22c0669777f8208d967dad60d6f06af109904708a248daa97abf4204ddf3a176d1902d1103b615fb323cc8cf95b82b4b2f37ee22ababb9ceff5e123631076023fbcbde73fe6dbf7ab3aa08d52e6cd09cff59a875dfad8e7899b8ce2a11e518b6a373846dd6b3fdff0c27dfa38fe31f93ae91e340b4fa091bf5af54f5c0966a29983fb0b165c2592e2525898809fd6ddc69b885a20dc77976fa3294d800889f3b78aeb'\n",
        "\n",
        "KAGGLE_INPUT_PATH='/kaggle/input'\n",
        "KAGGLE_WORKING_PATH='/kaggle/working'\n",
        "KAGGLE_SYMLINK='kaggle'\n",
        "\n",
        "!umount /kaggle/input/ 2> /dev/null\n",
        "shutil.rmtree('/kaggle/input', ignore_errors=True)\n",
        "os.makedirs(KAGGLE_INPUT_PATH, 0o777, exist_ok=True)\n",
        "os.makedirs(KAGGLE_WORKING_PATH, 0o777, exist_ok=True)\n",
        "\n",
        "try:\n",
        "  os.symlink(KAGGLE_INPUT_PATH, os.path.join(\"..\", 'input'), target_is_directory=True)\n",
        "except FileExistsError:\n",
        "  pass\n",
        "try:\n",
        "  os.symlink(KAGGLE_WORKING_PATH, os.path.join(\"..\", 'working'), target_is_directory=True)\n",
        "except FileExistsError:\n",
        "  pass\n",
        "\n",
        "for data_source_mapping in DATA_SOURCE_MAPPING.split(','):\n",
        "    directory, download_url_encoded = data_source_mapping.split(':')\n",
        "    download_url = unquote(download_url_encoded)\n",
        "    filename = urlparse(download_url).path\n",
        "    destination_path = os.path.join(KAGGLE_INPUT_PATH, directory)\n",
        "    try:\n",
        "        with urlopen(download_url) as fileres, NamedTemporaryFile() as tfile:\n",
        "            total_length = fileres.headers['content-length']\n",
        "            print(f'Downloading {directory}, {total_length} bytes compressed')\n",
        "            dl = 0\n",
        "            data = fileres.read(CHUNK_SIZE)\n",
        "            while len(data) > 0:\n",
        "                dl += len(data)\n",
        "                tfile.write(data)\n",
        "                done = int(50 * dl / int(total_length))\n",
        "                sys.stdout.write(f\"\\r[{'=' * done}{' ' * (50-done)}] {dl} bytes downloaded\")\n",
        "                sys.stdout.flush()\n",
        "                data = fileres.read(CHUNK_SIZE)\n",
        "            if filename.endswith('.zip'):\n",
        "              with ZipFile(tfile) as zfile:\n",
        "                zfile.extractall(destination_path)\n",
        "            else:\n",
        "              with tarfile.open(tfile.name) as tarfile:\n",
        "                tarfile.extractall(destination_path)\n",
        "            print(f'\\nDownloaded and uncompressed: {directory}')\n",
        "    except HTTPError as e:\n",
        "        print(f'Failed to load (likely expired) {download_url} to path {destination_path}')\n",
        "        continue\n",
        "    except OSError as e:\n",
        "        print(f'Failed to load {download_url} to path {destination_path}')\n",
        "        continue\n",
        "\n",
        "print('Data source import complete.')\n"
      ],
      "metadata": {
        "id": "v3AIeX0mDq-B"
      },
      "cell_type": "code",
      "outputs": [],
      "execution_count": null
    },
    {
      "cell_type": "code",
      "source": [
        "# This Python 3 environment comes with many helpful analytics libraries installed\n",
        "# It is defined by the kaggle/python Docker image: https://github.com/kaggle/docker-python\n",
        "# For example, here's several helpful packages to load\n",
        "\n",
        "import numpy as np # linear algebra\n",
        "import pandas as pd # data processing, CSV file I/O (e.g. pd.read_csv)\n",
        "import matplotlib.pyplot as plt\n",
        "import seaborn as sns\n",
        "import sklearn\n",
        "from sklearn import preprocessing\n",
        "from sklearn.model_selection import train_test_split\n",
        "from sklearn import svm\n",
        "from sklearn.svm import LinearSVC\n",
        "from sklearn.svm import SVC\n",
        "from sklearn.metrics import accuracy_score, precision_score, recall_score, f1_score, confusion_matrix\n",
        "from sklearn.neighbors import KNeighborsClassifier\n",
        "\n",
        "# Input data files are available in the read-only \"../input/\" directory\n",
        "# For example, running this (by clicking run or pressing Shift+Enter) will list all files under the input directory\n",
        "\n",
        "import os\n",
        "for dirname, _, filenames in os.walk('/kaggle/input'):\n",
        "    for filename in filenames:\n",
        "        print(os.path.join(dirname, filename))\n",
        "\n",
        "# You can write up to 20GB to the current directory (/kaggle/working/) that gets preserved as output when you create a version using \"Save & Run All\"\n",
        "# You can also write temporary files to /kaggle/temp/, but they won't be saved outside of the current session"
      ],
      "metadata": {
        "_uuid": "8f2839f25d086af736a60e9eeb907d3b93b6e0e5",
        "_cell_guid": "b1076dfc-b9ad-4769-8c92-a6c4dae69d19",
        "execution": {
          "iopub.status.busy": "2024-07-24T22:07:36.510154Z",
          "iopub.execute_input": "2024-07-24T22:07:36.511292Z",
          "iopub.status.idle": "2024-07-24T22:07:36.526813Z",
          "shell.execute_reply.started": "2024-07-24T22:07:36.511243Z",
          "shell.execute_reply": "2024-07-24T22:07:36.52566Z"
        },
        "trusted": true,
        "id": "U-fV4KZkDq-D"
      },
      "execution_count": null,
      "outputs": []
    },
    {
      "cell_type": "markdown",
      "source": [
        "# Loading the Dataset"
      ],
      "metadata": {
        "id": "x6nknyCcDq-E"
      }
    },
    {
      "cell_type": "code",
      "source": [
        "# Load the diabetes dataset from the provided CSV file\n",
        "data = pd.read_csv('/kaggle/input/diabetes-dataset-for-beginners/diabetes.csv')\n",
        "# Display the first few rows of the dataset\n",
        "data.head()"
      ],
      "metadata": {
        "execution": {
          "iopub.status.busy": "2024-07-24T22:07:36.528685Z",
          "iopub.execute_input": "2024-07-24T22:07:36.529041Z",
          "iopub.status.idle": "2024-07-24T22:07:36.550716Z",
          "shell.execute_reply.started": "2024-07-24T22:07:36.529012Z",
          "shell.execute_reply": "2024-07-24T22:07:36.549613Z"
        },
        "trusted": true,
        "id": "_ZyXAWgMDq-F"
      },
      "execution_count": null,
      "outputs": []
    },
    {
      "cell_type": "markdown",
      "source": [
        "# Dataset Information"
      ],
      "metadata": {
        "id": "3TI3GaNMDq-F"
      }
    },
    {
      "cell_type": "code",
      "source": [
        "# Display basic information about the dataset, including data types and non-null counts\n",
        "data.info()"
      ],
      "metadata": {
        "execution": {
          "iopub.status.busy": "2024-07-24T22:07:36.552364Z",
          "iopub.execute_input": "2024-07-24T22:07:36.552714Z",
          "iopub.status.idle": "2024-07-24T22:07:36.564519Z",
          "shell.execute_reply.started": "2024-07-24T22:07:36.552684Z",
          "shell.execute_reply": "2024-07-24T22:07:36.563047Z"
        },
        "trusted": true,
        "id": "7CzFzLXJDq-F"
      },
      "execution_count": null,
      "outputs": []
    },
    {
      "cell_type": "markdown",
      "source": [
        "# Descriptive Statistics"
      ],
      "metadata": {
        "id": "P_qJblQ4Dq-G"
      }
    },
    {
      "cell_type": "code",
      "source": [
        "# Generate descriptive statistics for each column in the dataset\n",
        "data.describe()"
      ],
      "metadata": {
        "execution": {
          "iopub.status.busy": "2024-07-24T22:07:36.566906Z",
          "iopub.execute_input": "2024-07-24T22:07:36.567248Z",
          "iopub.status.idle": "2024-07-24T22:07:36.606712Z",
          "shell.execute_reply.started": "2024-07-24T22:07:36.567218Z",
          "shell.execute_reply": "2024-07-24T22:07:36.605601Z"
        },
        "trusted": true,
        "id": "9pMcVhImDq-G"
      },
      "execution_count": null,
      "outputs": []
    },
    {
      "cell_type": "markdown",
      "source": [
        "# Check for Duplicates"
      ],
      "metadata": {
        "id": "3Ed644VqDq-G"
      }
    },
    {
      "cell_type": "code",
      "source": [
        "# Check for duplicate rows in the dataset\n",
        "data.duplicated().sum()"
      ],
      "metadata": {
        "execution": {
          "iopub.status.busy": "2024-07-24T22:07:36.608048Z",
          "iopub.execute_input": "2024-07-24T22:07:36.608361Z",
          "iopub.status.idle": "2024-07-24T22:07:36.617315Z",
          "shell.execute_reply.started": "2024-07-24T22:07:36.608335Z",
          "shell.execute_reply": "2024-07-24T22:07:36.616041Z"
        },
        "trusted": true,
        "id": "S-nWxvbnDq-G"
      },
      "execution_count": null,
      "outputs": []
    },
    {
      "cell_type": "markdown",
      "source": [
        "# Correlation Heatmap"
      ],
      "metadata": {
        "id": "EdFPOCB1Dq-H"
      }
    },
    {
      "cell_type": "code",
      "source": [
        "# Compute and visualize the correlation matrix\n",
        "corr_matrix = data.corr()\n",
        "sns.heatmap(corr_matrix, annot=True)\n",
        "plt.show()"
      ],
      "metadata": {
        "execution": {
          "iopub.status.busy": "2024-07-24T22:07:36.618641Z",
          "iopub.execute_input": "2024-07-24T22:07:36.619183Z",
          "iopub.status.idle": "2024-07-24T22:07:37.085781Z",
          "shell.execute_reply.started": "2024-07-24T22:07:36.619147Z",
          "shell.execute_reply": "2024-07-24T22:07:37.084641Z"
        },
        "trusted": true,
        "id": "VCBCK6bdDq-H"
      },
      "execution_count": null,
      "outputs": []
    },
    {
      "cell_type": "markdown",
      "source": [
        "# Histograms of Features that have zero values"
      ],
      "metadata": {
        "id": "Q11CTXyHDq-H"
      }
    },
    {
      "cell_type": "code",
      "source": [
        "# List of columns to visualize through histograms\n",
        "columns = ['Glucose', 'BloodPressure', 'SkinThickness', 'Insulin', 'BMI']\n",
        "\n",
        "# Plot histograms for the selected columns\n",
        "plt.figure(figsize=(15, 12))\n",
        "for i, column in enumerate(columns, 1):\n",
        "    plt.subplot(3, 2, i)\n",
        "    sns.histplot(data[column], kde=True)\n",
        "    plt.title(f'Distribution of {column}')\n",
        "plt.tight_layout()\n",
        "plt.show()"
      ],
      "metadata": {
        "execution": {
          "iopub.status.busy": "2024-07-24T22:07:37.087178Z",
          "iopub.execute_input": "2024-07-24T22:07:37.087526Z",
          "iopub.status.idle": "2024-07-24T22:07:38.968008Z",
          "shell.execute_reply.started": "2024-07-24T22:07:37.087495Z",
          "shell.execute_reply": "2024-07-24T22:07:38.966895Z"
        },
        "trusted": true,
        "id": "cSmE01VSDq-H"
      },
      "execution_count": null,
      "outputs": []
    },
    {
      "cell_type": "markdown",
      "source": [
        "# Handling Zero Values"
      ],
      "metadata": {
        "id": "G2MJ91vSDq-H"
      }
    },
    {
      "cell_type": "code",
      "source": [
        "# Replace zero values in selected columns with NaN\n",
        "data[columns] = data[columns].replace(0, np.nan)\n",
        "\n",
        "# Impute missing values with mean or median based on the distribution\n",
        "data['Glucose'] = data['Glucose'].fillna(data['Glucose'].mean())\n",
        "data['BloodPressure'] = data['BloodPressure'].fillna(data['BloodPressure'].mean())\n",
        "data['SkinThickness'] = data['SkinThickness'].fillna(data['SkinThickness'].median())\n",
        "data['Insulin'] = data['Insulin'].fillna(data['Insulin'].median())\n",
        "data['BMI'] = data['BMI'].fillna(data['BMI'].mean())"
      ],
      "metadata": {
        "execution": {
          "iopub.status.busy": "2024-07-24T22:07:38.969616Z",
          "iopub.execute_input": "2024-07-24T22:07:38.969967Z",
          "iopub.status.idle": "2024-07-24T22:07:38.985982Z",
          "shell.execute_reply.started": "2024-07-24T22:07:38.969938Z",
          "shell.execute_reply": "2024-07-24T22:07:38.98481Z"
        },
        "trusted": true,
        "id": "gaPdqcfXDq-H"
      },
      "execution_count": null,
      "outputs": []
    },
    {
      "cell_type": "markdown",
      "source": [
        "# Drop Unnecessary Columns"
      ],
      "metadata": {
        "id": "CObgokmlDq-I"
      }
    },
    {
      "cell_type": "code",
      "source": [
        "# Drop columns that are not required for the analysis\n",
        "data = data.drop(['BloodPressure', 'Insulin', 'DiabetesPedigreeFunction'], axis='columns')\n",
        "data.head()"
      ],
      "metadata": {
        "execution": {
          "iopub.status.busy": "2024-07-24T22:07:38.987441Z",
          "iopub.execute_input": "2024-07-24T22:07:38.988089Z",
          "iopub.status.idle": "2024-07-24T22:07:39.003349Z",
          "shell.execute_reply.started": "2024-07-24T22:07:38.988057Z",
          "shell.execute_reply": "2024-07-24T22:07:39.002067Z"
        },
        "trusted": true,
        "id": "fD2oqsiIDq-I"
      },
      "execution_count": null,
      "outputs": []
    },
    {
      "cell_type": "markdown",
      "source": [
        "# Box Plots of Selected Features"
      ],
      "metadata": {
        "id": "ZDtjgfX_Dq-I"
      }
    },
    {
      "cell_type": "code",
      "source": [
        "# Plot box plots for selected columns to visualize the distribution and detect outliers\n",
        "plt.figure(figsize=(15, 10))\n",
        "columns_to_plot = [col for col in columns if col in data.columns]\n",
        "\n",
        "for i, column in enumerate(columns_to_plot, 1):\n",
        "    plt.subplot(3, 2, i)\n",
        "    sns.boxplot(x=data[column])\n",
        "    plt.title(f'Box Plot of {column}')\n",
        "plt.tight_layout()\n",
        "plt.show()"
      ],
      "metadata": {
        "execution": {
          "iopub.status.busy": "2024-07-24T22:07:39.006549Z",
          "iopub.execute_input": "2024-07-24T22:07:39.006975Z",
          "iopub.status.idle": "2024-07-24T22:07:39.593761Z",
          "shell.execute_reply.started": "2024-07-24T22:07:39.006935Z",
          "shell.execute_reply": "2024-07-24T22:07:39.592635Z"
        },
        "trusted": true,
        "id": "9Uzz1VRHDq-I"
      },
      "execution_count": null,
      "outputs": []
    },
    {
      "cell_type": "markdown",
      "source": [
        "# Prepare Data for Modeling"
      ],
      "metadata": {
        "id": "6MGdpfX1Dq-I"
      }
    },
    {
      "cell_type": "code",
      "source": [
        "# Define target variable and feature set\n",
        "y = data[\"Outcome\"]\n",
        "x = data.drop([\"Outcome\"], axis=1)"
      ],
      "metadata": {
        "execution": {
          "iopub.status.busy": "2024-07-24T22:07:39.595139Z",
          "iopub.execute_input": "2024-07-24T22:07:39.596442Z",
          "iopub.status.idle": "2024-07-24T22:07:39.604764Z",
          "shell.execute_reply.started": "2024-07-24T22:07:39.596382Z",
          "shell.execute_reply": "2024-07-24T22:07:39.603482Z"
        },
        "trusted": true,
        "id": "QMGG6KdnDq-I"
      },
      "execution_count": null,
      "outputs": []
    },
    {
      "cell_type": "markdown",
      "source": [
        "# Check Target Variable"
      ],
      "metadata": {
        "id": "6kdQQH_PDq-I"
      }
    },
    {
      "cell_type": "code",
      "source": [
        "# Display the target variable (Outcome)\n",
        "y\n"
      ],
      "metadata": {
        "execution": {
          "iopub.status.busy": "2024-07-24T22:07:39.606274Z",
          "iopub.execute_input": "2024-07-24T22:07:39.606746Z",
          "iopub.status.idle": "2024-07-24T22:07:39.620899Z",
          "shell.execute_reply.started": "2024-07-24T22:07:39.606705Z",
          "shell.execute_reply": "2024-07-24T22:07:39.619621Z"
        },
        "trusted": true,
        "id": "5yGJ4wSVDq-I"
      },
      "execution_count": null,
      "outputs": []
    },
    {
      "cell_type": "markdown",
      "source": [
        "# Feature Scaling"
      ],
      "metadata": {
        "id": "-YYuZmVrDq-I"
      }
    },
    {
      "cell_type": "code",
      "source": [
        "# Standardize features by scaling to have mean=0 and variance=1\n",
        "scale = preprocessing.StandardScaler()\n",
        "x = scale.fit_transform(x)\n",
        "x"
      ],
      "metadata": {
        "execution": {
          "iopub.status.busy": "2024-07-24T22:07:39.622503Z",
          "iopub.execute_input": "2024-07-24T22:07:39.623072Z",
          "iopub.status.idle": "2024-07-24T22:07:39.648103Z",
          "shell.execute_reply.started": "2024-07-24T22:07:39.62303Z",
          "shell.execute_reply": "2024-07-24T22:07:39.64649Z"
        },
        "trusted": true,
        "id": "dV-2JIyvDq-I"
      },
      "execution_count": null,
      "outputs": []
    },
    {
      "cell_type": "markdown",
      "source": [
        "# Hyperparameter Tuning with Random State"
      ],
      "metadata": {
        "id": "zswvl3yADq-I"
      }
    },
    {
      "cell_type": "markdown",
      "source": [
        "*This function is designed to find the optimal random state for splitting the dataset, aiming to maximize the model's accuracy. It does so by iterating over a range of random states, training the model for each state, and evaluating its performance. The random state that results in the highest accuracy is recorded and printed.*"
      ],
      "metadata": {
        "id": "MmosRFnYDq-J"
      }
    },
    {
      "cell_type": "code",
      "source": [
        "# Test different random states to find the best one for model accuracy\n",
        "random_states = range(0, 100)  # Adjust the range as needed\n",
        "\n",
        "best_accuracy = 0\n",
        "best_random_state = None\n",
        "\n",
        "for state in random_states:\n",
        "    train_x, test_x, train_y, test_y = train_test_split(x, y, random_state=state, test_size=0.2)\n",
        "\n",
        "    classifier = svm.SVC(kernel='linear', degree=3)\n",
        "    classifier.fit(train_x, train_y)\n",
        "    predictions = classifier.predict(test_x)\n",
        "\n",
        "    accuracy = accuracy_score(test_y, predictions)\n",
        "\n",
        "    if accuracy > best_accuracy:\n",
        "        best_accuracy = accuracy\n",
        "        best_random_state = state\n",
        "\n",
        "print(f\"Best random state: {best_random_state}, Best accuracy: {best_accuracy*100:.1f}%\")"
      ],
      "metadata": {
        "execution": {
          "iopub.status.busy": "2024-07-24T22:15:57.358341Z",
          "iopub.execute_input": "2024-07-24T22:15:57.359129Z",
          "iopub.status.idle": "2024-07-24T22:15:58.784428Z",
          "shell.execute_reply.started": "2024-07-24T22:15:57.359088Z",
          "shell.execute_reply": "2024-07-24T22:15:58.78328Z"
        },
        "trusted": true,
        "id": "2AIKefezDq-J"
      },
      "execution_count": null,
      "outputs": []
    },
    {
      "cell_type": "markdown",
      "source": [
        "# Preparing Input Data for Prediction"
      ],
      "metadata": {
        "id": "AVKkcz5oDq-J"
      }
    },
    {
      "cell_type": "code",
      "source": [
        "# Define an example input for prediction\n",
        "input_data = (2, 120, 35, 28.7, 45)\n",
        "input_data_arr = np.asarray(input_data)\n",
        "input_data_arr.shape"
      ],
      "metadata": {
        "execution": {
          "iopub.status.busy": "2024-07-24T22:07:41.072406Z",
          "iopub.execute_input": "2024-07-24T22:07:41.072868Z",
          "iopub.status.idle": "2024-07-24T22:07:41.080675Z",
          "shell.execute_reply.started": "2024-07-24T22:07:41.072824Z",
          "shell.execute_reply": "2024-07-24T22:07:41.079543Z"
        },
        "trusted": true,
        "id": "Ynhwo_mnDq-J"
      },
      "execution_count": null,
      "outputs": []
    },
    {
      "cell_type": "markdown",
      "source": [
        "# Reshape Input Data"
      ],
      "metadata": {
        "id": "3v-PUhJlDq-J"
      }
    },
    {
      "cell_type": "code",
      "source": [
        "# Reshape the input data to match the model's expected input shape\n",
        "input_data_reshaped = input_data_arr.reshape(1, -1)\n",
        "input_data_reshaped.shape"
      ],
      "metadata": {
        "execution": {
          "iopub.status.busy": "2024-07-24T22:07:41.082134Z",
          "iopub.execute_input": "2024-07-24T22:07:41.082524Z",
          "iopub.status.idle": "2024-07-24T22:07:41.093063Z",
          "shell.execute_reply.started": "2024-07-24T22:07:41.082486Z",
          "shell.execute_reply": "2024-07-24T22:07:41.091874Z"
        },
        "trusted": true,
        "id": "xUbo-o1MDq-J"
      },
      "execution_count": null,
      "outputs": []
    },
    {
      "cell_type": "markdown",
      "source": [
        "# Make Prediction"
      ],
      "metadata": {
        "id": "FiT6QDUaDq-J"
      }
    },
    {
      "cell_type": "code",
      "source": [
        "# Use the trained model to make a prediction on the input data\n",
        "model_pred = classifier.predict(input_data_reshaped)\n",
        "\n",
        "if model_pred == [0]:\n",
        "    print(\"The person doesn't have diabetes\")\n",
        "else:\n",
        "    print(\"The person has diabetes\")"
      ],
      "metadata": {
        "execution": {
          "iopub.status.busy": "2024-07-24T22:07:47.923753Z",
          "iopub.execute_input": "2024-07-24T22:07:47.924162Z",
          "iopub.status.idle": "2024-07-24T22:07:47.931112Z",
          "shell.execute_reply.started": "2024-07-24T22:07:47.924128Z",
          "shell.execute_reply": "2024-07-24T22:07:47.929921Z"
        },
        "trusted": true,
        "id": "0UtuBkA9Dq-J"
      },
      "execution_count": null,
      "outputs": []
    }
  ]
}